{
 "cells": [
  {
   "cell_type": "code",
   "execution_count": null,
   "id": "1da7f9db-536a-4811-8de7-c193c7606446",
   "metadata": {},
   "outputs": [],
   "source": [
    "import seaborn as sns\n",
    "sns.set_palette('husl')\n",
    "import matplotlib.pyplot as plt\n",
    "%matplotlib inline\n",
    "\n",
    "from sklearn import metrics\n",
    "from sklearn.neighbors import KNeighborsClassifier\n",
    "from sklearn.linear_model import LogisticRegression\n",
    "from sklearn.model_selection import train_test_split"
   ]
  },
  {
   "cell_type": "code",
   "execution_count": null,
   "id": "de455116-b66a-4c13-89c0-b58c75ac53c6",
   "metadata": {},
   "outputs": [],
   "source": [
    "#### Note: The default type of intance variables index and columns are NOT list.\n",
    "#### To get the index and columns as lists, we can use the tolist() method."
   ]
  },
  {
   "cell_type": "code",
   "execution_count": null,
   "id": "6636ec4d-c9d1-4c74-8280-a8f7252fedbd",
   "metadata": {},
   "outputs": [],
   "source": [
    "print(type(data.columns))\n",
    "print(type(data.index))"
   ]
  },
  {
   "cell_type": "code",
   "execution_count": null,
   "id": "f0d226e8-ef04-449d-9bb0-17eeb86ea040",
   "metadata": {},
   "outputs": [],
   "source": [
    "print(type(data.columns.tolist()))\n",
    "print(type(data.index.tolist()))"
   ]
  },
  {
   "cell_type": "code",
   "execution_count": null,
   "id": "6180227a-5e81-4997-a966-f24d88d76486",
   "metadata": {},
   "outputs": [],
   "source": [
    "# optional: to remove the name of the index\n",
    "#data.index.name = None"
   ]
  },
  {
   "cell_type": "markdown",
   "id": "19017237-de87-451f-9319-fdfeee6614b3",
   "metadata": {},
   "source": [
    "### Two types of plotting\n",
    "\n",
    "As we discussed in the video lectures, there are two styles/options of plotting with `matplotlib`， plotting using the Artist layer and plotting using the scripting layer.\n",
    "\n",
    "\\*\\*Option 1: Scripting layer (procedural method) - using matplotlib.pyplot as 'plt' \\*\\*\n",
    "\n",
    "You can use `plt` i.e. `matplotlib.pyplot` and add more elements by calling different methods procedurally; for example, `plt.title(...)` to add title or `plt.xlabel(...)` to add label to the x-axis.\n",
    "\n",
    "```python\n",
    "    # Option 1: This is what we have been using so far\n",
    "    df_top5.plot(kind='area', alpha=0.35, figsize=(20, 10)) \n",
    "    plt.title('Best Quality')\n",
    "    plt.ylabel('Intensity')\n",
    "    plt.xlabel('Features')\n",
    "```\n"
   ]
  },
  {
   "cell_type": "markdown",
   "id": "43442d53-a123-44ff-bd27-e84a0307e291",
   "metadata": {},
   "source": [
    "\\*\\*Option 2: Artist layer (Object oriented method) - using an `Axes` instance from Matplotlib (preferred) \\*\\*\n",
    "\n",
    "You can use an `Axes` instance of your current plot and store it in a variable (eg. `ax`). You can add more elements by calling methods with a little change in syntax (by adding \"`set_`\" to the previous methods). For example, use `ax.set_title()` instead of `plt.title()` to add title,  or `ax.set_xlabel()` instead of `plt.xlabel()` to add label to the x-axis.\n",
    "\n",
    "This option sometimes is more transparent and flexible to use for advanced plots (in particular when having multiple plots, as you will see later).\n",
    "\n"
   ]
  },
  {
   "cell_type": "markdown",
   "id": "721eff14-e86c-4095-9587-292a01e88f2b",
   "metadata": {},
   "source": [
    "```python\n",
    "# option 2: preferred option with more flexibility\n",
    "#ax = df_top5.plot(kind='area', alpha=0.35, figsize=(20, 10))\n",
    "ax = data_top5.plot(kind='area',stacked=False,figsize=(8, 6))\n",
    "ax.set_title('Best Quality')\n",
    "ax.set_ylabel('Intensity')\n",
    "ax.set_xlabel('Features')\n",
    "```"
   ]
  },
  {
   "cell_type": "code",
   "execution_count": null,
   "id": "295c5a13-a14c-4c5d-ab6c-7671661d26b8",
   "metadata": {},
   "outputs": [],
   "source": []
  }
 ],
 "metadata": {
  "kernelspec": {
   "display_name": "Python 3 (ipykernel)",
   "language": "python",
   "name": "python3"
  },
  "language_info": {
   "codemirror_mode": {
    "name": "ipython",
    "version": 3
   },
   "file_extension": ".py",
   "mimetype": "text/x-python",
   "name": "python",
   "nbconvert_exporter": "python",
   "pygments_lexer": "ipython3",
   "version": "3.9.6"
  }
 },
 "nbformat": 4,
 "nbformat_minor": 5
}
